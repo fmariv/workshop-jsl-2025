{
 "cells": [
  {
   "cell_type": "markdown",
   "metadata": {},
   "source": [
    "# Involucrarse\n"
   ]
  },
  {
   "cell_type": "markdown",
   "metadata": {},
   "source": [
    "## EOTDL\n"
   ]
  },
  {
   "cell_type": "markdown",
   "metadata": {},
   "source": [
    "Si quieres participar en el proyecto, te recomendamos:\n",
    "\n",
    "1. Unirte al servidor de Discord de EOTDL: [https://discord.gg/hYxc5AJB92](https://discord.gg/hYxc5AJB92)\n",
    "\n",
    "Aquí gestionaremos todas las comunicaciones relacionadas con EOTDL y brindaremos soporte a usuarios y desarrolladores.\n",
    "\n",
    "2. Participar en los issues de GitHub [https://github.com/earthpulse/eotdl/issues](https://github.com/earthpulse/eotdl/issues).\n",
    "\n",
    "Las funciones que se implementarán se publicarán como issues en el repositorio de GitHub. Puedes comentarlas, proponer soluciones alternativas o incluso proponer nuevas funciones. Las funciones más populares tendrán prioridad en la hoja de ruta de desarrollo.\n",
    "\n",
    "¿Tienes alguna sugerencia? ¡Si rellenas la siguiente encuesta nos ayudas mucho! https://subscribepage.io/YcTU97\n",
    "\n",
    "![eotdl-survey](../img/eotdl_survey.png)\n"
   ]
  },
  {
   "cell_type": "markdown",
   "metadata": {},
   "source": [
    "### Contribuir\n"
   ]
  },
  {
   "cell_type": "markdown",
   "metadata": {},
   "source": [
    "#### Datasets y modelos\n"
   ]
  },
  {
   "cell_type": "markdown",
   "metadata": {},
   "source": [
    "La forma más sencilla de contribuir a EOTDL es con conjuntos de datos y modelos.\n",
    "\n",
    "No dudes en subir tus propios conjuntos de datos y modelos y compartirlos con la comunidad.\n",
    "\n",
    "Si no, elige un conjunto de datos o modelo de la lista de issues en GitHub: [https://github.com/earthpulse/eotdl/issues](https://github.com/earthpulse/eotdl/issues)\n"
   ]
  },
  {
   "cell_type": "markdown",
   "metadata": {},
   "source": [
    "#### Aplicaciones de terceros\n"
   ]
  },
  {
   "cell_type": "markdown",
   "metadata": {},
   "source": [
    "Si desea crear una aplicación basada en EOTDL, infórmanos en nuestro servidor de Discord. Estaremos encantados de ayudarle y promocionar su aplicación. Algunas ideas de aplicaciones que pueden crearse sobre EOTDL son:\n",
    "\n",
    "- Repositorios de conjuntos de datos y modelos de terceros\n",
    "- Paneles de visualización de conjuntos de datos\n",
    "- Plataformas AutoML\n",
    "- Herramientas de etiquetado\n",
    "- Aplicaciones educativas\n",
    "- Plataformas de interpretabilidad de modelos\n",
    "- Servicios de suscripción\n"
   ]
  },
  {
   "cell_type": "markdown",
   "metadata": {},
   "source": [
    "#### Codebase\n"
   ]
  },
  {
   "cell_type": "markdown",
   "metadata": {},
   "source": [
    "Contribuir al código base es un poco más complejo. Sin embargo, si estás decidido a hacerlo, sigue estos pasos:\n",
    "\n",
    "1. Únete al servidor de [Discord](https://discord.gg/hYxc5AJB92) y solicita el estatus de \"devleoper\". Esto te dará acceso a los canales privados donde discutimos el desarrollo de EOTDL.\n",
    "\n",
    "2. Asiste a las reuniones de planificación de funciones. Estas se realizan periódicamente (y se anunciarán en Discod). En ellas, discutimos las funciones que se implementarán en la próxima versión, quién estará a cargo de cada función y la fecha límite para cada versión.\n",
    "\n",
    "3. Bifurca el repositorio y crea una nueva rama para cada función en la que estés trabajando.\n",
    "\n",
    "4. Una vez finalizada la función, crea una solicitud de extracción a la rama `develop` del repositorio principal.\n",
    "\n",
    "5. La solicitud de extracción será revisada por los mantenedores y, si todo es correcto, se fusionará con la rama `develop`.\n",
    "\n",
    "Una vez que la rama `develop` tenga suficientes características para ser lanzada, se creará una nueva versión y se fusionará con la rama `main`.\n"
   ]
  },
  {
   "cell_type": "markdown",
   "metadata": {},
   "source": [
    "## SCANEO y PyTorchEO\n"
   ]
  },
  {
   "cell_type": "markdown",
   "metadata": {},
   "source": [
    "¡Lo mismo que para EOTDL!\n",
    "\n",
    "Si quieres participar en SCANEO o PyTorchEO, te recomendamos:\n",
    "\n",
    "1. Unirte al servidor de Discord de EarthPulse: [https://discord.gg/hYxc5AJB92](https://discord.gg/TH3TyUdP)\n",
    "\n",
    "Aquí gestionaremos todas las comunicaciones relacionadas con nuestros productos, como SPAI, SCANEO o PyTorchEO.\n",
    "\n",
    "2. Participar en los issues de GitHub de SCANEO [https://github.com/earthpulse/scaneo](https://github.com/earthpulse/scaneo/issues).\n",
    "3. Participar en los issues de GitHub de PyTorchEO [https://github.com/earthpulse/pytorchEO](https://github.com/earthpulse/pytorchEO/issues).\n",
    "\n",
    "Las funciones que se implementarán se publicarán como issues en el repositorio de GitHub. Puedes comentarlas, proponer soluciones alternativas o incluso proponer nuevas funciones. Las funciones más populares tendrán prioridad en la hoja de ruta de desarrollo.\n"
   ]
  }
 ],
 "metadata": {
  "language_info": {
   "name": "python"
  }
 },
 "nbformat": 4,
 "nbformat_minor": 2
}
