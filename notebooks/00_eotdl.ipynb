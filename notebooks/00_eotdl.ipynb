{
 "cells": [
  {
   "cell_type": "markdown",
   "metadata": {},
   "source": [
    "# Earth Observation Training Data Lab\n"
   ]
  },
  {
   "cell_type": "markdown",
   "metadata": {},
   "source": [
    "## Trasfondo\n"
   ]
  },
  {
   "cell_type": "markdown",
   "metadata": {},
   "source": [
    "Uno de los factores más limitantes de la IA para aplicaciones de EO es la escasez de **Conjuntos de Datos de Entrenamiento** (TDS) adecuados y accesibles. Como su nombre indica, los TDS se utilizan para entrenar un modelo de IA para que realice una tarea específica. Actualmente, la principal barrera reside en que la recopilación y el etiquetado de datos de EO es un proceso complejo. Existen técnicas que pueden ayudar a solucionar este problema, por ejemplo, el aprendizaje por transferencia o el aprendizaje no supervisado, pero siempre se requieren datos anotados para el ajuste y la validación final de los modelos de IA.\n",
    "\n",
    "Generar TDS es una tarea lenta y costosa. El acceso a los datos suele ser limitado y costoso, especialmente para imágenes de Muy Alta Resolución (VHR) que permiten identificar claramente objetos como árboles. En algunos casos, se requieren expertos en la materia o incluso visitas presenciales (in situ) para confirmar manualmente que los objetos en una imagen satelital estén correctamente anotados con un alto grado de calidad. Esto hace que el campo de la IA para aplicaciones de EO esté rezagado en comparación con otros campos, lo que dificulta el desarrollo de nuevas aplicaciones y limita todo el potencial de la IA en EO.\n"
   ]
  },
  {
   "cell_type": "markdown",
   "metadata": {},
   "source": [
    "## EOTDL\n"
   ]
  },
  {
   "cell_type": "markdown",
   "metadata": {},
   "source": [
    "El Earth Observation Training Data Lab (EOTDL) aborda estas limitaciones y brechas para trabajar con datos de entrenamiento de Aprendizaje Automático (ML) en EO, proporcionando, por un lado, un conjunto de herramientas de código abierto para crear, compartir y mejorar conjuntos de datos, así como para entrenar algoritmos de ML en la nube. Por otro lado, EOTDL también será un repositorio en línea donde se pueden explorar y descargar conjuntos de datos y modelos.\n",
    "\n",
    "EOTDL es un proyecto pagado por la [ESA](https://www.esa.int/), e invertido por [Earthpulse](https://earthpulse.ai/) (líder del proyecto), [EOX](https://eox.at/), [Brockmann Consult](https://www.brockmann-consult.de/), [Sinergise](https://www.sinergise.com/) y [SpaceTec Partners](https://www.spacetec.partners/).\n"
   ]
  },
  {
   "cell_type": "markdown",
   "metadata": {},
   "source": [
    "## Ecosistema\n"
   ]
  },
  {
   "cell_type": "markdown",
   "metadata": {},
   "source": [
    "- Los usuarios pueden acceder a los datos para la creación de conjuntos, seleccionando la fuente, el rango temporal y las áreas de interés.\n",
    "- Los metadatos para la curación y el control de calidad de los datos se generan siguiendo la especificación STAC. Se aplican mecanismos automáticos de control de calidad y control de versiones durante el proceso de ingesta de conjuntos de datos.\n",
    "- Las herramientas de ingeniería permiten la ingeniería de características reproducible, el etiquetado, la detección de sesgos, etc. El entrenamiento de modelos de aprendizaje automático en la nube con máquinas multi-GPU se habilita de forma transparente.\n",
    "- EOTDL es accesible en múltiples niveles: interfaces de usuario, API web, CLI y biblioteca de Python (con wrappers).\n"
   ]
  },
  {
   "cell_type": "markdown",
   "metadata": {},
   "source": [
    "¡Exploraremos todo durante esta sesión tutorial!\n"
   ]
  },
  {
   "cell_type": "markdown",
   "metadata": {},
   "source": [
    "## ¿Para quién es?\n"
   ]
  },
  {
   "cell_type": "markdown",
   "metadata": {},
   "source": [
    "El EOTDL está disponible para **todos** y es gratuito.\n",
    "\n",
    "Puede resultarte interesante si:\n",
    "\n",
    "- Eres científico de datos o ingeniero de Machine Learning que trabaja con datos de EO: puedes usar el EOTDL para crear y compartir conjuntos de datos, y entrenar modelos en la nube.\n",
    "\n",
    "- Eres experto en un campo (p. ej., silvicultura, agricultura, etc.) y quieres explorar el potencial de la IA en tu campo: puedes explorar, probar y descargar los modelos alojados.\n",
    "\n",
    "- Eres desarrollador y quieres contribuir al proyecto: puedes contribuir al código fuente abierto, la documentación, los conjuntos de datos y los modelos.\n",
    "\n",
    "- Eres estudiante o investigador y quieres aprender sobre IA para EO: puedes usar el EOTDL para descargar conjuntos de datos y entrenar tus modelos.\n",
    "\n",
    "¡Y mucho más!\n"
   ]
  },
  {
   "cell_type": "markdown",
   "metadata": {},
   "source": [
    "## Comunidad\n"
   ]
  },
  {
   "cell_type": "markdown",
   "metadata": {},
   "source": [
    "EOTDL es de código abierto y está impulsado por la comunidad. ¡Agradecemos cualquier contribución!\n",
    "\n",
    "- Github: [https://github.com/earthpulse/eotdl](https://github.com/earthpulse/eotdl)\n",
    "- Discord: [https://discord.gg/hYxc5AJB92](https://discord.gg/hYxc5AJB92)\n",
    "\n",
    "Te animamos a unirte al servidor de Discord si aún no lo has hecho.\n"
   ]
  }
 ],
 "metadata": {
  "kernelspec": {
   "display_name": "eotdl",
   "language": "python",
   "name": "python3"
  },
  "language_info": {
   "name": "python",
   "version": "3.8.18"
  }
 },
 "nbformat": 4,
 "nbformat_minor": 2
}
