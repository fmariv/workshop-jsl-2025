{
 "cells": [
  {
   "cell_type": "markdown",
   "metadata": {},
   "source": [
    "# Ingestar un dataset o modelo existentes\n"
   ]
  },
  {
   "cell_type": "markdown",
   "metadata": {},
   "source": [
    "En esta notebook, mostraremos cómo incorporar un conjunto de datos o modelo existente en EOTDL.\n",
    "\n",
    "Una vez incorporado, puede usarlo de la misma manera que cualquier otro conjunto de datos o modelo en EOTDL (exploración, preparación, etc.).\n"
   ]
  },
  {
   "cell_type": "markdown",
   "metadata": {},
   "source": [
    "## Ingestar a través de la CLI\n"
   ]
  },
  {
   "cell_type": "markdown",
   "metadata": {},
   "source": [
    "La forma recomendada de ingerir un conjunto de datos es mediante la CLI.\n"
   ]
  },
  {
   "cell_type": "code",
   "execution_count": 1,
   "metadata": {},
   "outputs": [
    {
     "name": "stdout",
     "output_type": "stream",
     "text": [
      "\u001b[1m                                                                                \u001b[0m\n",
      "\u001b[1m \u001b[0m\u001b[1;33mUsage: \u001b[0m\u001b[1meotdl datasets ingest [OPTIONS]\u001b[0m\u001b[1m                                        \u001b[0m\u001b[1m \u001b[0m\n",
      "\u001b[1m                                                                                \u001b[0m\n",
      " Ingest a dataset to the EOTDL.asdf                                             \n",
      "                                                                                \n",
      " \u001b[2mThis command ingests the dataset to the EOTDL. The dataset must be a folder \u001b[0m   \n",
      " \u001b[2mwith the dataset files, and at least a README.md file (and a catalog.json file\u001b[0m \n",
      " \u001b[2mfor Q1+). If these files are missing, the ingestion will not work. All the \u001b[0m    \n",
      " \u001b[2mfiles in the folder will be uploaded to the EOTDL.\u001b[0m                             \n",
      "                                                                                \n",
      " \u001b[2mThe following constraints apply to the dataset name:\u001b[0m                           \n",
      " \u001b[2m- It must be unique\u001b[0m                                                            \n",
      " \u001b[2m- It must be between 3 and 45 characters long\u001b[0m                                  \n",
      " \u001b[2m- It can only contain alphanumeric characters and dashes.\u001b[0m                      \n",
      "                                                                                \n",
      " \u001b[2mThe README.md file must contain the following fields in the metadata header:\u001b[0m   \n",
      " \u001b[2m- name: the name of the dataset\u001b[0m                                                \n",
      " \u001b[2m- authors: the author or authors of the dataset\u001b[0m                                \n",
      " \u001b[2m- license: the license of the dataset\u001b[0m                                          \n",
      " \u001b[2m- source: the source of the dataset\u001b[0m                                            \n",
      " \u001b[2m- thumbnail: an image to use as the thumbnail of the dataset in the website\u001b[0m    \n",
      " \u001b[2mThe rest of the content in the README.md file will be used as the description \u001b[0m \n",
      " \u001b[2mof the dataset in the website. If using \u001b[0m\u001b[1;2;36m-\u001b[0m\u001b[1;2;36m-verbose\u001b[0m\u001b[2m, it will print the progress \u001b[0m \n",
      " \u001b[2mof the ingestion.\u001b[0m                                                              \n",
      "                                                                                \n",
      " \u001b[2mExamples\u001b[0m                                                                       \n",
      " \u001b[1;2;36m--------\u001b[0m                                                                       \n",
      " \u001b[2m$ eotdl dataset ingest \u001b[0m\u001b[1;2;36m-\u001b[0m\u001b[1;2;36m-path\u001b[0m\u001b[2m /path/to/folder-with-dataset \u001b[0m\u001b[1;2;36m-\u001b[0m\u001b[1;2;36m-verbose\u001b[0m\u001b[2m True\u001b[0m      \n",
      "                                                                                \n",
      "\u001b[2m╭─\u001b[0m\u001b[2m Options \u001b[0m\u001b[2m───────────────────────────────────────────────────────────────────\u001b[0m\u001b[2m─╮\u001b[0m\n",
      "\u001b[2m│\u001b[0m \u001b[31m*\u001b[0m  \u001b[1;36m-\u001b[0m\u001b[1;36m-path\u001b[0m         \u001b[1;32m-p\u001b[0m       \u001b[1;33mPATH\u001b[0m  Path to the dataset to ingest \u001b[2;31m[required]\u001b[0m    \u001b[2m│\u001b[0m\n",
      "\u001b[2m│\u001b[0m    \u001b[1;36m-\u001b[0m\u001b[1;36m-verbose\u001b[0m      \u001b[1;32m-v\u001b[0m       \u001b[1;33m    \u001b[0m  Verbose output. This will print the         \u001b[2m│\u001b[0m\n",
      "\u001b[2m│\u001b[0m                                  progress of the ingestion                   \u001b[2m│\u001b[0m\n",
      "\u001b[2m│\u001b[0m    \u001b[1;36m-\u001b[0m\u001b[1;36m-force\u001b[0m        \u001b[1;32m-f\u001b[0m       \u001b[1;33m    \u001b[0m  Force metadata update even if it already    \u001b[2m│\u001b[0m\n",
      "\u001b[2m│\u001b[0m                                  exists. Will overwrite the current metadata \u001b[2m│\u001b[0m\n",
      "\u001b[2m│\u001b[0m                                  in EOTDL                                    \u001b[2m│\u001b[0m\n",
      "\u001b[2m│\u001b[0m    \u001b[1;36m-\u001b[0m\u001b[1;36m-sync\u001b[0m         \u001b[1;32m-s\u001b[0m       \u001b[1;33m    \u001b[0m  Sync local metadata with the EOTDL. Will    \u001b[2m│\u001b[0m\n",
      "\u001b[2m│\u001b[0m                                  overwrite the local metadata                \u001b[2m│\u001b[0m\n",
      "\u001b[2m│\u001b[0m    \u001b[1;36m-\u001b[0m\u001b[1;36m-private\u001b[0m      \u001b[1;32m-pr\u001b[0m      \u001b[1;33m    \u001b[0m  Make dataset private                        \u001b[2m│\u001b[0m\n",
      "\u001b[2m│\u001b[0m    \u001b[1;36m-\u001b[0m\u001b[1;36m-ignore\u001b[0m\u001b[1;36m-stac\u001b[0m  \u001b[1;32m-is\u001b[0m      \u001b[1;33m    \u001b[0m  Ignore STAC catalog.json (if found) for     \u001b[2m│\u001b[0m\n",
      "\u001b[2m│\u001b[0m                                  geneating metadata.                         \u001b[2m│\u001b[0m\n",
      "\u001b[2m│\u001b[0m    \u001b[1;36m-\u001b[0m\u001b[1;36m-help\u001b[0m                  \u001b[1;33m    \u001b[0m  Show this message and exit.                 \u001b[2m│\u001b[0m\n",
      "\u001b[2m╰──────────────────────────────────────────────────────────────────────────────╯\u001b[0m\n",
      "\n"
     ]
    }
   ],
   "source": [
    "!eotdl datasets ingest --help"
   ]
  },
  {
   "cell_type": "markdown",
   "metadata": {},
   "source": [
    "Para ingerir un conjunto de datos, necesitará una carpeta en su sistema con los datos que desea cargar, como la que hemos generado.\n"
   ]
  },
  {
   "cell_type": "code",
   "execution_count": 2,
   "metadata": {},
   "outputs": [
    {
     "name": "stdout",
     "output_type": "stream",
     "text": [
      "Boadella_2020-01-13.tif Boadella_2020-01-23.tif Boadella_2020-02-02.tif\n",
      "Boadella_2020-01-18.tif Boadella_2020-01-28.tif\n"
     ]
    }
   ],
   "source": [
    "!ls data/boadella-jsl2025"
   ]
  },
  {
   "cell_type": "code",
   "execution_count": 3,
   "metadata": {},
   "outputs": [
    {
     "data": {
      "text/plain": [
       "['data/boadella-jsl2025/Boadella_2020-02-02.tif',\n",
       " 'data/boadella-jsl2025/Boadella_2020-01-23.tif',\n",
       " 'data/boadella-jsl2025/Boadella_2020-01-18.tif',\n",
       " 'data/boadella-jsl2025/Boadella_2020-01-28.tif',\n",
       " 'data/boadella-jsl2025/Boadella_2020-01-13.tif']"
      ]
     },
     "execution_count": 3,
     "metadata": {},
     "output_type": "execute_result"
    }
   ],
   "source": [
    "from glob import glob\n",
    "\n",
    "files = glob(\"data/boadella-jsl2025/**/*.*\", recursive=True)\n",
    "files"
   ]
  },
  {
   "cell_type": "markdown",
   "metadata": {},
   "source": [
    "Se requiere un archivo `README.md` para los conjuntos de datos y modelos, que contiene cierta información básica requerida (autores del conjunto de datos, licencias, enlace a la fuente y nombre del conjunto de datos).\n"
   ]
  },
  {
   "cell_type": "code",
   "execution_count": null,
   "metadata": {},
   "outputs": [],
   "source": [
    "# !touch data/boadella-jsl2025/README.md   # Descomentar para crear el archivo README"
   ]
  },
  {
   "cell_type": "code",
   "execution_count": 6,
   "metadata": {},
   "outputs": [
    {
     "name": "stdout",
     "output_type": "stream",
     "text": [
      "---\n",
      "name: boadella-jsl2025\n",
      "authors:\n",
      "  - Fran Martin\n",
      "license: MIT\n",
      "source: https://www.eotdl.com\n",
      "thumbnail: https://empordaturisme.com/wp-content/uploads/2021/06/Espais-Naturals-Panta-de-Boadella-empordaturisme.jpg\n",
      "---\n",
      "\n",
      "Dataset de Boadella del taller de SIG Libre de Girona 2025\n"
     ]
    }
   ],
   "source": [
    "!cat data/boadella-jsl2025/README.md"
   ]
  },
  {
   "cell_type": "markdown",
   "metadata": {},
   "source": [
    "El nombre elegido será el que aparecerá en el repositorio, por lo que debe ser único, tener entre 3 y 45 caracteres y solo puede contener caracteres alfanuméricos y guiones (más información en [https://www.eotdl.com/docs/datasets/ingest](https://www.eotdl.com/docs/datasets/ingest)).\n",
    "\n",
    "Intentar ingerir un conjunto de datos sin un archivo `README.md` fallará.\n",
    "\n",
    "Si todo es correcto, el proceso de ingestión debería funcionar.\n"
   ]
  },
  {
   "cell_type": "code",
   "execution_count": 9,
   "metadata": {},
   "outputs": [
    {
     "name": "stdout",
     "output_type": "stream",
     "text": [
      "Ingesting folder\n",
      "Ingesting directory: data/boadella-jsl2025\n",
      "Preparing files: 100%|███████████████████████████| 6/6 [00:00<00:00, 205.11it/s]\n",
      "Ingesting files: 100%|████████████████████████████| 6/6 [00:04<00:00,  1.40it/s]\n"
     ]
    }
   ],
   "source": [
    "!eotdl datasets ingest -p data/boadella-jsl2025/"
   ]
  },
  {
   "cell_type": "markdown",
   "metadata": {},
   "source": [
    "Y ahora su conjunto de datos está disponible en EOTDL\n"
   ]
  },
  {
   "cell_type": "code",
   "execution_count": 11,
   "metadata": {},
   "outputs": [
    {
     "name": "stdout",
     "output_type": "stream",
     "text": [
      "['boadella-jsl2025']\n"
     ]
    }
   ],
   "source": [
    "!eotdl datasets list -n boadella-jsl2025"
   ]
  },
  {
   "cell_type": "markdown",
   "metadata": {},
   "source": [
    "Dado que el nombre `boadella-jsl2025` ya está en uso, este proceso debería fallar. Para solucionarlo, simplemente cargue el conjunto de datos con un nombre diferente. Sin embargo, esto contaminará el EOTDL con conjuntos de datos de prueba, por lo que le recomendamos que pruebe el proceso de ingesta con un conjunto de datos real que desee ingestar (o que sobrescriba su conjunto de datos de prueba en el futuro con datos útiles). En cualquier caso, siempre puede eliminar el conjunto de datos del EOTDL usando el botón `DELETE` en la interfaz de usuario.\n"
   ]
  },
  {
   "cell_type": "markdown",
   "metadata": {},
   "source": [
    "Durante el proceso de ingesta, se crea un archivo `catalog.parquet` con metadatos de STAC. Si su conjunto de datos ya contiene metadatos de STAC (existe un archivo `catalog.json` en la raíz del conjunto de datos), estos se analizarán y se añadirán al archivo `catalog.parquet`. De lo contrario, la CLI creará metadatos compatibles con STAC a partir de la estructura de directorios.\n"
   ]
  },
  {
   "cell_type": "code",
   "execution_count": 12,
   "metadata": {},
   "outputs": [
    {
     "data": {
      "text/html": [
       "<div>\n",
       "<style scoped>\n",
       "    .dataframe tbody tr th:only-of-type {\n",
       "        vertical-align: middle;\n",
       "    }\n",
       "\n",
       "    .dataframe tbody tr th {\n",
       "        vertical-align: top;\n",
       "    }\n",
       "\n",
       "    .dataframe thead th {\n",
       "        text-align: right;\n",
       "    }\n",
       "</style>\n",
       "<table border=\"1\" class=\"dataframe\">\n",
       "  <thead>\n",
       "    <tr style=\"text-align: right;\">\n",
       "      <th></th>\n",
       "      <th>type</th>\n",
       "      <th>stac_version</th>\n",
       "      <th>stac_extensions</th>\n",
       "      <th>datetime</th>\n",
       "      <th>id</th>\n",
       "      <th>bbox</th>\n",
       "      <th>geometry</th>\n",
       "      <th>assets</th>\n",
       "      <th>links</th>\n",
       "      <th>repository</th>\n",
       "    </tr>\n",
       "  </thead>\n",
       "  <tbody>\n",
       "    <tr>\n",
       "      <th>0</th>\n",
       "      <td>Feature</td>\n",
       "      <td>1.0.0</td>\n",
       "      <td>[]</td>\n",
       "      <td>2025-09-15 12:10:00.043076</td>\n",
       "      <td>Boadella_2020-02-02.tif</td>\n",
       "      <td>{'xmax': 0.0, 'xmin': 0.0, 'ymax': 0.0, 'ymin'...</td>\n",
       "      <td>POLYGON EMPTY</td>\n",
       "      <td>{'asset': {'checksum': '2f1df20189d865fb078dbe...</td>\n",
       "      <td>[]</td>\n",
       "      <td>eotdl</td>\n",
       "    </tr>\n",
       "    <tr>\n",
       "      <th>1</th>\n",
       "      <td>Feature</td>\n",
       "      <td>1.0.0</td>\n",
       "      <td>[]</td>\n",
       "      <td>2025-09-15 12:10:00.049999</td>\n",
       "      <td>Boadella_2020-01-23.tif</td>\n",
       "      <td>{'xmax': 0.0, 'xmin': 0.0, 'ymax': 0.0, 'ymin'...</td>\n",
       "      <td>POLYGON EMPTY</td>\n",
       "      <td>{'asset': {'checksum': 'e1919f8306baf94cf73f95...</td>\n",
       "      <td>[]</td>\n",
       "      <td>eotdl</td>\n",
       "    </tr>\n",
       "    <tr>\n",
       "      <th>2</th>\n",
       "      <td>Feature</td>\n",
       "      <td>1.0.0</td>\n",
       "      <td>[]</td>\n",
       "      <td>2025-09-15 12:10:00.054921</td>\n",
       "      <td>Boadella_2020-01-18.tif</td>\n",
       "      <td>{'xmax': 0.0, 'xmin': 0.0, 'ymax': 0.0, 'ymin'...</td>\n",
       "      <td>POLYGON EMPTY</td>\n",
       "      <td>{'asset': {'checksum': 'bbbc2db4292883aa927ac5...</td>\n",
       "      <td>[]</td>\n",
       "      <td>eotdl</td>\n",
       "    </tr>\n",
       "    <tr>\n",
       "      <th>3</th>\n",
       "      <td>Feature</td>\n",
       "      <td>1.0.0</td>\n",
       "      <td>[]</td>\n",
       "      <td>2025-09-15 12:10:00.059546</td>\n",
       "      <td>README.md</td>\n",
       "      <td>{'xmax': 0.0, 'xmin': 0.0, 'ymax': 0.0, 'ymin'...</td>\n",
       "      <td>POLYGON EMPTY</td>\n",
       "      <td>{'asset': {'checksum': '1a9075ed728747b8f385f6...</td>\n",
       "      <td>[]</td>\n",
       "      <td>eotdl</td>\n",
       "    </tr>\n",
       "    <tr>\n",
       "      <th>4</th>\n",
       "      <td>Feature</td>\n",
       "      <td>1.0.0</td>\n",
       "      <td>[]</td>\n",
       "      <td>2025-09-15 12:10:00.059687</td>\n",
       "      <td>Boadella_2020-01-28.tif</td>\n",
       "      <td>{'xmax': 0.0, 'xmin': 0.0, 'ymax': 0.0, 'ymin'...</td>\n",
       "      <td>POLYGON EMPTY</td>\n",
       "      <td>{'asset': {'checksum': '88705d8f3e5f3268693ff3...</td>\n",
       "      <td>[]</td>\n",
       "      <td>eotdl</td>\n",
       "    </tr>\n",
       "    <tr>\n",
       "      <th>5</th>\n",
       "      <td>Feature</td>\n",
       "      <td>1.0.0</td>\n",
       "      <td>[]</td>\n",
       "      <td>2025-09-15 12:10:00.066379</td>\n",
       "      <td>Boadella_2020-01-13.tif</td>\n",
       "      <td>{'xmax': 0.0, 'xmin': 0.0, 'ymax': 0.0, 'ymin'...</td>\n",
       "      <td>POLYGON EMPTY</td>\n",
       "      <td>{'asset': {'checksum': '160756f336142ee1afcbb1...</td>\n",
       "      <td>[]</td>\n",
       "      <td>eotdl</td>\n",
       "    </tr>\n",
       "  </tbody>\n",
       "</table>\n",
       "</div>"
      ],
      "text/plain": [
       "      type stac_version stac_extensions                   datetime  \\\n",
       "0  Feature        1.0.0              [] 2025-09-15 12:10:00.043076   \n",
       "1  Feature        1.0.0              [] 2025-09-15 12:10:00.049999   \n",
       "2  Feature        1.0.0              [] 2025-09-15 12:10:00.054921   \n",
       "3  Feature        1.0.0              [] 2025-09-15 12:10:00.059546   \n",
       "4  Feature        1.0.0              [] 2025-09-15 12:10:00.059687   \n",
       "5  Feature        1.0.0              [] 2025-09-15 12:10:00.066379   \n",
       "\n",
       "                        id                                               bbox  \\\n",
       "0  Boadella_2020-02-02.tif  {'xmax': 0.0, 'xmin': 0.0, 'ymax': 0.0, 'ymin'...   \n",
       "1  Boadella_2020-01-23.tif  {'xmax': 0.0, 'xmin': 0.0, 'ymax': 0.0, 'ymin'...   \n",
       "2  Boadella_2020-01-18.tif  {'xmax': 0.0, 'xmin': 0.0, 'ymax': 0.0, 'ymin'...   \n",
       "3                README.md  {'xmax': 0.0, 'xmin': 0.0, 'ymax': 0.0, 'ymin'...   \n",
       "4  Boadella_2020-01-28.tif  {'xmax': 0.0, 'xmin': 0.0, 'ymax': 0.0, 'ymin'...   \n",
       "5  Boadella_2020-01-13.tif  {'xmax': 0.0, 'xmin': 0.0, 'ymax': 0.0, 'ymin'...   \n",
       "\n",
       "        geometry                                             assets links  \\\n",
       "0  POLYGON EMPTY  {'asset': {'checksum': '2f1df20189d865fb078dbe...    []   \n",
       "1  POLYGON EMPTY  {'asset': {'checksum': 'e1919f8306baf94cf73f95...    []   \n",
       "2  POLYGON EMPTY  {'asset': {'checksum': 'bbbc2db4292883aa927ac5...    []   \n",
       "3  POLYGON EMPTY  {'asset': {'checksum': '1a9075ed728747b8f385f6...    []   \n",
       "4  POLYGON EMPTY  {'asset': {'checksum': '88705d8f3e5f3268693ff3...    []   \n",
       "5  POLYGON EMPTY  {'asset': {'checksum': '160756f336142ee1afcbb1...    []   \n",
       "\n",
       "  repository  \n",
       "0      eotdl  \n",
       "1      eotdl  \n",
       "2      eotdl  \n",
       "3      eotdl  \n",
       "4      eotdl  \n",
       "5      eotdl  "
      ]
     },
     "execution_count": 12,
     "metadata": {},
     "output_type": "execute_result"
    }
   ],
   "source": [
    "import geopandas as gpd\n",
    "\n",
    "catalog = gpd.read_parquet(\"data/boadella-jsl2025/catalog.parquet\")\n",
    "\n",
    "catalog"
   ]
  },
  {
   "cell_type": "markdown",
   "metadata": {},
   "source": [
    "¡Sería el mismo funcionamiento para modelos!\n"
   ]
  },
  {
   "cell_type": "markdown",
   "metadata": {},
   "source": [
    "## Versionado\n"
   ]
  },
  {
   "cell_type": "markdown",
   "metadata": {},
   "source": [
    "De forma predeterminada, cada vez que se vuelve a cargar un conjunto de datos o un modelo, se crea una nueva versión. Aplicamos el control de versiones a nivel de conjunto de datos/modelo y de archivo, lo que significa que solo se cargarán los archivos nuevos o modificados en futuras cargas, descargando los archivos correspondientes para cada versión.\n"
   ]
  },
  {
   "cell_type": "code",
   "execution_count": 13,
   "metadata": {},
   "outputs": [
    {
     "name": "stdout",
     "output_type": "stream",
     "text": [
      "Ingesting folder\n",
      "Ingesting directory: data/boadella-jsl2025\n",
      "Preparing files: 100%|███████████████████████████| 7/7 [00:00<00:00, 149.27it/s]\n",
      "Ingesting files: 100%|████████████████████████████| 7/7 [00:01<00:00,  3.92it/s]\n",
      "A new version was created, your dataset has changed.\n",
      "Num changes: 1\n"
     ]
    }
   ],
   "source": [
    "!echo \"hello\" > data/boadella-jsl2025/hello.txt\n",
    "!eotdl datasets ingest -p data/boadella-jsl2025/"
   ]
  },
  {
   "cell_type": "markdown",
   "metadata": {},
   "source": [
    "Al preparar un conjunto de datos, se utiliza la última versión de forma predeterminada.\n"
   ]
  },
  {
   "cell_type": "code",
   "execution_count": 14,
   "metadata": {},
   "outputs": [
    {
     "name": "stdout",
     "output_type": "stream",
     "text": [
      "Data available at /Users/fran/.cache/eotdl/datasets/boadella-jsl2025\n"
     ]
    }
   ],
   "source": [
    "!eotdl datasets get boadella-jsl2025"
   ]
  },
  {
   "cell_type": "markdown",
   "metadata": {},
   "source": [
    "Sin embargo, puede especificar la versión\n"
   ]
  },
  {
   "cell_type": "code",
   "execution_count": 15,
   "metadata": {},
   "outputs": [
    {
     "name": "stdout",
     "output_type": "stream",
     "text": [
      "Data available at /Users/fran/.cache/eotdl/datasets/boadella-jsl2025\n"
     ]
    }
   ],
   "source": [
    "!eotdl datasets get boadella-jsl2025 -v 1 -f"
   ]
  },
  {
   "cell_type": "code",
   "execution_count": 16,
   "metadata": {},
   "outputs": [
    {
     "name": "stdout",
     "output_type": "stream",
     "text": [
      "README.md          catalog.v1.parquet catalog.v2.parquet\n"
     ]
    }
   ],
   "source": [
    "!ls $HOME/.cache/eotdl/datasets/boadella-jsl2025"
   ]
  },
  {
   "cell_type": "markdown",
   "metadata": {},
   "source": [
    "Puede explorar las diferentes versiones en la interfaz de usuario.\n"
   ]
  },
  {
   "cell_type": "markdown",
   "metadata": {},
   "source": [
    "## Ingesta a través de la librería de Python\n"
   ]
  },
  {
   "cell_type": "markdown",
   "metadata": {},
   "source": [
    "Puede ingerir conjuntos de datos y modelos utilizando la librería\n"
   ]
  },
  {
   "cell_type": "code",
   "execution_count": 17,
   "metadata": {},
   "outputs": [
    {
     "name": "stdout",
     "output_type": "stream",
     "text": [
      "Ingesting folder\n",
      "Ingesting directory: data/boadella-jsl2025\n"
     ]
    },
    {
     "name": "stderr",
     "output_type": "stream",
     "text": [
      "Preparing files: 100%|██████████| 7/7 [00:00<00:00, 288.83it/s]\n",
      "Ingesting files: 100%|██████████| 7/7 [00:01<00:00,  4.89it/s]"
     ]
    },
    {
     "name": "stdout",
     "output_type": "stream",
     "text": [
      "No new version was created, your dataset has not changed.\n"
     ]
    },
    {
     "name": "stderr",
     "output_type": "stream",
     "text": [
      "\n"
     ]
    }
   ],
   "source": [
    "from eotdl.datasets import ingest_dataset\n",
    "\n",
    "try:\n",
    "    ingest_dataset(\"data/boadella-jsl2025\")\n",
    "except Exception as e:\n",
    "    print(e)"
   ]
  },
  {
   "cell_type": "markdown",
   "metadata": {},
   "source": [
    "## Oportunidades de discusión y contribución\n"
   ]
  },
  {
   "cell_type": "markdown",
   "metadata": {},
   "source": [
    "No dudes en hacer preguntas ahora (en vivo o a través de Discord) y sugerir mejoras futuras.\n",
    "\n",
    "- ¿Qué funciones de ingesta te gustaría ver?\n",
    "- ¿Qué otras funciones de control de versiones te gustaría ver?\n"
   ]
  }
 ],
 "metadata": {
  "kernelspec": {
   "display_name": ".venv",
   "language": "python",
   "name": "python3"
  },
  "language_info": {
   "codemirror_mode": {
    "name": "ipython",
    "version": 3
   },
   "file_extension": ".py",
   "mimetype": "text/x-python",
   "name": "python",
   "nbconvert_exporter": "python",
   "pygments_lexer": "ipython3",
   "version": "3.12.8"
  }
 },
 "nbformat": 4,
 "nbformat_minor": 2
}
