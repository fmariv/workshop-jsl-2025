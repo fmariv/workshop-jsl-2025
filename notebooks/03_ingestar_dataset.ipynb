{
 "cells": [
  {
   "cell_type": "markdown",
   "metadata": {},
   "source": [
    "# Ingestar un dataset o modelo existentes\n"
   ]
  },
  {
   "cell_type": "markdown",
   "metadata": {},
   "source": [
    "En esta notebook, mostraremos cómo incorporar un conjunto de datos o modelo existente en EOTDL.\n",
    "\n",
    "Una vez incorporado, puede usarlo de la misma manera que cualquier otro conjunto de datos o modelo en EOTDL (exploración, preparación, etc.).\n"
   ]
  },
  {
   "cell_type": "markdown",
   "metadata": {},
   "source": [
    "## Ingestar a través de la CLI\n"
   ]
  },
  {
   "cell_type": "markdown",
   "metadata": {},
   "source": [
    "La forma recomendada de ingerir un conjunto de datos es mediante la CLI.\n"
   ]
  },
  {
   "cell_type": "code",
   "execution_count": null,
   "metadata": {},
   "outputs": [],
   "source": [
    "!eotdl datasets ingest --help"
   ]
  },
  {
   "cell_type": "markdown",
   "metadata": {},
   "source": [
    "Para ingerir un conjunto de datos, necesitará una carpeta en su sistema con los datos que desea cargar.\n"
   ]
  },
  {
   "cell_type": "code",
   "execution_count": null,
   "metadata": {},
   "outputs": [],
   "source": [
    "!ls workshop_data"
   ]
  },
  {
   "cell_type": "markdown",
   "metadata": {},
   "source": [
    "Para este tutorial, trabajaremos con una submuestra del conjunto de datos [EuroSAT](https://www.eotdl.com/datasets/EuroSAT-RGB).\n"
   ]
  },
  {
   "cell_type": "code",
   "execution_count": null,
   "metadata": {},
   "outputs": [],
   "source": [
    "from glob import glob\n",
    "\n",
    "files = glob(\"workshop_data/EuroSAT-small/**/*.*\", recursive=True)\n",
    "files"
   ]
  },
  {
   "cell_type": "markdown",
   "metadata": {},
   "source": [
    "Se requiere un archivo `README.md` para los conjuntos de datos y modelos, que contiene cierta información básica requerida (autores del conjunto de datos, licencias, enlace a la fuente y nombre del conjunto de datos).\n"
   ]
  },
  {
   "cell_type": "code",
   "execution_count": null,
   "metadata": {},
   "outputs": [],
   "source": [
    "!cat workshop_data/EuroSAT-small/README.md"
   ]
  },
  {
   "cell_type": "markdown",
   "metadata": {},
   "source": [
    "El nombre elegido será el que aparecerá en el repositorio, por lo que debe ser único, tener entre 3 y 45 caracteres y solo puede contener caracteres alfanuméricos y guiones (más información en [https://www.eotdl.com/docs/datasets/ingest](https://www.eotdl.com/docs/datasets/ingest)).\n",
    "\n",
    "Intentar ingerir un conjunto de datos sin un archivo `README.md` fallará.\n",
    "\n",
    "Si todo es correcto, el proceso de ingestión debería funcionar.\n"
   ]
  },
  {
   "cell_type": "code",
   "execution_count": null,
   "metadata": {},
   "outputs": [],
   "source": [
    "!eotdl datasets ingest -p workshop_data/EuroSAT-small/"
   ]
  },
  {
   "cell_type": "markdown",
   "metadata": {},
   "source": [
    "Y ahora su conjunto de datos está disponible en EOTDL\n"
   ]
  },
  {
   "cell_type": "code",
   "execution_count": null,
   "metadata": {},
   "outputs": [],
   "source": [
    "!eotdl datasets list -n Eurosat-small-jsl2025"
   ]
  },
  {
   "cell_type": "markdown",
   "metadata": {},
   "source": [
    "Dado que el nombre `EuroSAT-small-jsl25` ya está en uso, este proceso debería fallar. Para solucionarlo, simplemente cargue el conjunto de datos con un nombre diferente. Sin embargo, esto contaminará el EOTDL con conjuntos de datos de prueba, por lo que le recomendamos que pruebe el proceso de ingesta con un conjunto de datos real que desee ingestar (o que sobrescriba su conjunto de datos de prueba en el futuro con datos útiles). En cualquier caso, siempre puede eliminar el conjunto de datos del EOTDL usando el botón `DELETE` en la interfaz de usuario.\n"
   ]
  },
  {
   "cell_type": "markdown",
   "metadata": {},
   "source": [
    "Durante el proceso de ingesta, se crea un archivo `catalog.parquet` con metadatos de STAC. Si su conjunto de datos ya contiene metadatos de STAC (existe un archivo `catalog.json` en la raíz del conjunto de datos), estos se analizarán y se añadirán al archivo `catalog.parquet`. De lo contrario, la CLI creará metadatos compatibles con STAC a partir de la estructura de directorios.\n"
   ]
  },
  {
   "cell_type": "code",
   "execution_count": null,
   "metadata": {},
   "outputs": [],
   "source": [
    "import geopandas as gpd\n",
    "\n",
    "catalog = gpd.read_parquet(\"workshop_data/EuroSAT-small/catalog.parquet\")\n",
    "\n",
    "catalog"
   ]
  },
  {
   "cell_type": "markdown",
   "metadata": {},
   "source": [
    "¡Sería el mismo funcionamiento para modelos!\n"
   ]
  },
  {
   "cell_type": "markdown",
   "metadata": {},
   "source": [
    "## Versionado\n"
   ]
  },
  {
   "cell_type": "markdown",
   "metadata": {},
   "source": [
    "De forma predeterminada, cada vez que se vuelve a cargar un conjunto de datos o un modelo, se crea una nueva versión. Aplicamos el control de versiones a nivel de conjunto de datos/modelo y de archivo, lo que significa que solo se cargarán los archivos nuevos o modificados en futuras cargas, descargando los archivos correspondientes para cada versión.\n"
   ]
  },
  {
   "cell_type": "code",
   "execution_count": null,
   "metadata": {},
   "outputs": [],
   "source": [
    "!echo \"hello\" > workshop_data/EuroSAT-small/hello.txt\n",
    "!eotdl datasets ingest -p workshop_data/EuroSAT-small/"
   ]
  },
  {
   "cell_type": "markdown",
   "metadata": {},
   "source": [
    "Al preparar un conjunto de datos, se utiliza la última versión de forma predeterminada.\n"
   ]
  },
  {
   "cell_type": "code",
   "execution_count": null,
   "metadata": {},
   "outputs": [],
   "source": [
    "!eotdl datasets get EuroSAT-small-jsl2025"
   ]
  },
  {
   "cell_type": "markdown",
   "metadata": {},
   "source": [
    "Sin embargo, puede especificar la versión\n"
   ]
  },
  {
   "cell_type": "code",
   "execution_count": null,
   "metadata": {},
   "outputs": [],
   "source": [
    "!eotdl datasets get EuroSAT-small-jsl2025 -v 1 -f"
   ]
  },
  {
   "cell_type": "code",
   "execution_count": null,
   "metadata": {},
   "outputs": [],
   "source": [
    "!ls $HOME/.cache/eotdl/datasets/EuroSAT-small-jsl2025"
   ]
  },
  {
   "cell_type": "markdown",
   "metadata": {},
   "source": [
    "Puede explorar las diferentes versiones en la interfaz de usuario.\n"
   ]
  },
  {
   "cell_type": "markdown",
   "metadata": {},
   "source": [
    "## Ingesta a través de la librería de Python\n"
   ]
  },
  {
   "cell_type": "markdown",
   "metadata": {},
   "source": [
    "Puede ingerir conjuntos de datos y modelos utilizando la librería\n"
   ]
  },
  {
   "cell_type": "code",
   "execution_count": null,
   "metadata": {},
   "outputs": [],
   "source": [
    "from eotdl.datasets import ingest_dataset\n",
    "\n",
    "try:\n",
    "    ingest_dataset(\"workshop_data/EuroSAT-small\")\n",
    "except Exception as e:\n",
    "    print(e)"
   ]
  },
  {
   "cell_type": "markdown",
   "metadata": {},
   "source": [
    "## Oportunidades de discusión y contribución\n"
   ]
  },
  {
   "cell_type": "markdown",
   "metadata": {},
   "source": [
    "No dudes en hacer preguntas ahora (en vivo o a través de Discord) y sugerir mejoras futuras.\n",
    "\n",
    "- ¿Qué funciones de ingesta te gustaría ver?\n",
    "- ¿Qué otras funciones de control de versiones te gustaría ver?\n"
   ]
  }
 ],
 "metadata": {
  "kernelspec": {
   "display_name": ".venv",
   "language": "python",
   "name": "python3"
  },
  "language_info": {
   "codemirror_mode": {
    "name": "ipython",
    "version": 3
   },
   "file_extension": ".py",
   "mimetype": "text/x-python",
   "name": "python",
   "nbconvert_exporter": "python",
   "pygments_lexer": "ipython3",
   "version": "3.12.8"
  }
 },
 "nbformat": 4,
 "nbformat_minor": 2
}
