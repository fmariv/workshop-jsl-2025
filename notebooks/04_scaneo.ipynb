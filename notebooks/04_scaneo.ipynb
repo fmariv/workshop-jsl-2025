{
   "cells": [
      {
         "cell_type": "markdown",
         "metadata": {},
         "source": [
            "# SCANEO\n"
         ]
      },
      {
         "cell_type": "markdown",
         "metadata": {},
         "source": [
            "As the final step towards creating our training dataset, we need to make the data AI-Ready. There are multitude of tasks that can be performed here, such as:\n",
            "\n",
            "- **Data cleaning**: remove corrupted images, remove images with too much cloud cover, etc.\n",
            "- **Feature engineering**: calculate vegetation indices, calculate statistics, etc.\n",
            "- **Data analysis**: plot time series, plot histograms, etc.\n",
            "- **Labelling**: create labels for the images, etc.\n",
            "\n",
            "For each one, feel free to use your favourite tools. Here we are going to demonstrate labelling using [SCANEO](https://github.com/earthpulse/scaneo).\n",
            "\n",
            "SCANEO is a labelling web application that allows tagging satellite images (to identify, e.g., objects present, terrain types, etc.) in an easy and fast way. The service provided by SCANEO is vital since it is necessary to prepare the satellite data so that it can be processed by neural networks, enabling active learning.\n",
            "\n",
            "Before running the web interface, we need to make sure we have the `scaneo` package installed in our machine and, if not, install it.\n"
         ]
      },
      {
         "cell_type": "code",
         "execution_count": null,
         "metadata": {},
         "outputs": [],
         "source": [
            "# !pip install scaneo"
         ]
      },
      {
         "cell_type": "markdown",
         "metadata": {},
         "source": [
            "You can run `scaneo` with the following options\n"
         ]
      },
      {
         "cell_type": "code",
         "execution_count": null,
         "metadata": {},
         "outputs": [],
         "source": [
            "!scaneo --help"
         ]
      },
      {
         "cell_type": "markdown",
         "metadata": {},
         "source": [
            "You can run `scaneo` by opening a terminal and running:\n",
            "\n",
            "```\n",
            "scaneo\n",
            "```\n",
            "\n",
            "Then, you can then access the web interface at `http://localhost:8000`.\n",
            "\n",
            "> You can change the host and port with `scaneo --host 0.0.0.0 --port 8000`.\n"
         ]
      },
      {
         "cell_type": "markdown",
         "metadata": {},
         "source": [
            "![scaneo](./images/scaneo2.png)\n"
         ]
      },
      {
         "cell_type": "markdown",
         "metadata": {},
         "source": [
            "Your annotations will be stored alongside the images as GeoJSON files containig the segmentation masks as multipolygons, bounding boxes for detection tasks or classification labels.\n"
         ]
      },
      {
         "cell_type": "code",
         "execution_count": null,
         "metadata": {},
         "outputs": [],
         "source": [
            "!ls data/sentinel_2/*.geojson"
         ]
      },
      {
         "cell_type": "markdown",
         "metadata": {},
         "source": [
            "Once your data is ready you can ingest it to EOTDL like we have seen in the previous notebook and start working with it as any other dataset in the repository.\n"
         ]
      },
      {
         "cell_type": "code",
         "execution_count": null,
         "metadata": {},
         "outputs": [],
         "source": [
            "text = \"\"\"---\n",
            "name: Boadella-LPS25\n",
            "authors: \n",
            "  - Juan B. Pedro\n",
            "license: free\n",
            "source: https://github.com/earthpulse/eotdl/blob/develop/tutorials/workshops/lps25/04_creating.ipynb\n",
            "---\n",
            "\n",
            "# Boadella-LPS25\n",
            "\n",
            "This is a toy dataset created during the LPS25 workshop.\n",
            "\"\"\"\n",
            "\n",
            "with open(\"data/sentinel_2/README.md\", \"w\") as outfile:\n",
            "    outfile.write(text)"
         ]
      },
      {
         "cell_type": "code",
         "execution_count": null,
         "metadata": {},
         "outputs": [],
         "source": [
            "from eotdl.datasets import ingest_dataset\n",
            "\n",
            "ingest_dataset(\"data/sentinel_2\")"
         ]
      },
      {
         "cell_type": "markdown",
         "metadata": {},
         "source": [
            "If you add more images or labels to the dataset, you can re-upload and a new version will be automatically generated.\n"
         ]
      },
      {
         "cell_type": "markdown",
         "metadata": {},
         "source": [
            "## Learn more with our use cases\n"
         ]
      },
      {
         "cell_type": "markdown",
         "metadata": {},
         "source": [
            "There is much more on EOTDL and SCANEO for creating and labelling datasets as well as training models in the [EOTDL use cases](https://github.com/earthpulse/eotdl/tree/main/tutorials/usecases) section.\n"
         ]
      },
      {
         "cell_type": "markdown",
         "metadata": {},
         "source": [
            "## Discussion and Contribution opportunities\n"
         ]
      },
      {
         "cell_type": "markdown",
         "metadata": {},
         "source": [
            "Feel free to ask questions now (live or through Discord) and make suggestions for future improvements.\n",
            "\n",
            "- What features concerning data exploration would you like to see?\n",
            "- What other features concerning data download would you like to see?\n",
            "- What features and tools concerning data preparation would you like to see?\n",
            "- What does your typical workflow look like?\n",
            "- Do you already use any labelling tool?\n",
            "- What does you ideal labelling tool looks like?\n"
         ]
      }
   ],
   "metadata": {
      "kernelspec": {
         "display_name": ".venv",
         "language": "python",
         "name": "python3"
      },
      "language_info": {
         "codemirror_mode": {
            "name": "ipython",
            "version": 3
         },
         "file_extension": ".py",
         "mimetype": "text/x-python",
         "name": "python",
         "nbconvert_exporter": "python",
         "pygments_lexer": "ipython3",
         "version": "3.12.7"
      },
      "orig_nbformat": 4
   },
   "nbformat": 4,
   "nbformat_minor": 2
}
