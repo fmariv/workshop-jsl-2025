{
   "cells": [
      {
         "cell_type": "markdown",
         "metadata": {},
         "source": [
            "# Creando un dataset\n"
         ]
      },
      {
         "cell_type": "markdown",
         "metadata": {},
         "source": [
            "Esta es probablemente la parte más interesante del tutorial, donde podrás aprovechar las herramientas EOTDL para crear un nuevo conjunto de datos. Aquí cubrimos:\n",
            "\n",
            "1. **Exploración de datos**: Dada una área de interés, consulta los datos centinela disponibles para tu conjunto de datos.\n",
            "2. **Acceso a los datos**: descarga los datos para crear el conjunto.\n",
            "3. **Preparación de los datos**: limpia los datos, realiza la ingeniería de características, el análisis de datos, el etiquetado, etc.\n",
            "\n",
            "Una vez que tu conjunto de datos esté listo, puedes incorporarlo al EOTDL como vimos en el cuaderno anterior y empezar a trabajar con él como cualquier otro conjunto de datos del repositorio.\n"
         ]
      },
      {
         "cell_type": "markdown",
         "metadata": {},
         "source": [
            "## Exploración\n"
         ]
      },
      {
         "cell_type": "markdown",
         "metadata": {},
         "source": [
            "En primer lugar, exploremos el área de interés que hemos seleccionado para este taller. En este caso, hemos elegido el [Embalse de Boadella](https://es.wikipedia.org/wiki/Embalse_de_Darnius_Boadella) en Cataluña, España, cuya geometría se encuentra en la carpeta de datos `workshop_data/boadella.geojson`. Aquí utilizamos [leafmap](https://leafmap.org/) para visualizarlo, pero puedes usar la solución que prefieras.\n"
         ]
      },
      {
         "cell_type": "code",
         "execution_count": null,
         "metadata": {},
         "outputs": [],
         "source": [
            "# !uv add leafmap"
         ]
      },
      {
         "cell_type": "code",
         "execution_count": null,
         "metadata": {},
         "outputs": [],
         "source": [
            "import leafmap\n",
            "import geopandas as gpd\n",
            "\n",
            "in_geojson = \"workshop_data/boadella.geojson\"\n",
            "gdf = gpd.read_file(in_geojson)\n",
            "\n",
            "centroid_coords = gdf[\"geometry\"].centroid\n",
            "centroid = [\n",
            "    centroid_coords.y.values[0],\n",
            "    centroid_coords.x.values[0],\n",
            "]  # We are going to use the centroid later\n",
            "\n",
            "m = leafmap.Map(center=centroid, zoom=13)\n",
            "m.add_geojson(in_geojson, layer_name=\"Boadella reservoir\")\n",
            "m"
         ]
      },
      {
         "cell_type": "markdown",
         "metadata": {},
         "source": [
            "Al crear conjuntos de datos compatibles con IA, es habitual trabajar con una resolución fija. Se pueden recuperar escenas completas y cortar fragmentos, o usar la función EOTDL para generar los cuadros delimitadores adecuados. Para que todas las imágenes del conjunto de datos tengan 512x512 píxeles, usaremos el centroide extraído previamente del geoJSON y generaremos un cuadro delimitador que generará una imagen de 512x512 píxeles con una resolución de 10 m, ya que usaremos datos de Sentinel.\n"
         ]
      },
      {
         "cell_type": "code",
         "execution_count": null,
         "metadata": {},
         "outputs": [],
         "source": [
            "from eotdl.tools import bbox_from_centroid\n",
            "\n",
            "boadella_bbox = bbox_from_centroid(\n",
            "    x=centroid[0], y=centroid[1], pixel_size=10, width=512, height=512\n",
            ")\n",
            "boadella_bbox"
         ]
      },
      {
         "cell_type": "markdown",
         "metadata": {},
         "source": [
            "¡Visualicemos el cuadro delimitador en un mapa!\n"
         ]
      },
      {
         "cell_type": "code",
         "execution_count": null,
         "metadata": {},
         "outputs": [],
         "source": [
            "from eotdl.tools import bbox_to_polygon\n",
            "\n",
            "# Create a polygon from the bbox\n",
            "boadella_polygon = bbox_to_polygon(boadella_bbox)\n",
            "# Create a GeoDataFrame from the polygon\n",
            "gdf = gpd.GeoDataFrame(geometry=[boadella_polygon])\n",
            "# Save the bounding box as a geoJSON file, if needed\n",
            "gdf.to_file(\n",
            "    \"workshop_data/boadella_bbox.geojson\", driver=\"GeoJSON\"\n",
            ")  # Uncomment to save the bbox as a GeoJSON file\n",
            "\n",
            "m.add_geojson(\"workshop_data/boadella_bbox.geojson\", layer_name=\"Boadella bbox\")\n",
            "m"
         ]
      },
      {
         "cell_type": "markdown",
         "metadata": {},
         "source": [
            "Ahora que tenemos el cuadro delimitador deseado, podemos buscar imágenes de Sentinel-2 disponibles en él. Esto se puede hacer a través del EOTDL.\n",
            "\n",
            "Primero, podemos buscar qué sensores Sentinel son compatibles con el EOTDL.\n"
         ]
      },
      {
         "cell_type": "code",
         "execution_count": null,
         "metadata": {},
         "outputs": [],
         "source": [
            "from eotdl.access import SUPPORTED_COLLECTION_IDS\n",
            "\n",
            "SUPPORTED_COLLECTION_IDS"
         ]
      },
      {
         "cell_type": "markdown",
         "metadata": {},
         "source": [
            "Si queremos buscar imágenes de Sentinel-2 disponibles en nuestra área de interés, debemos definir un rango de fechas para buscarlas. Ya hemos definido un intervalo de tiempo para este taller, que se encuentra en el archivo `workshop_data/dates.csv`.\n"
         ]
      },
      {
         "cell_type": "code",
         "execution_count": null,
         "metadata": {},
         "outputs": [],
         "source": [
            "import csv\n",
            "\n",
            "dates = list()\n",
            "with open(\"workshop_data/dates.csv\", \"r\") as file:\n",
            "    reader = csv.reader(file)\n",
            "    for row in reader:\n",
            "        dates.append(row[0])\n",
            "dates.sort()\n",
            "\n",
            "dates[:5]"
         ]
      },
      {
         "cell_type": "markdown",
         "metadata": {},
         "source": [
            "Aunque tenemos las fechas específicas, vamos a buscar todo el intervalo de tiempo, tal como un demostrador.\n"
         ]
      },
      {
         "cell_type": "markdown",
         "metadata": {},
         "source": [
            "> Usamos Sentinel Hub internamente, por lo que necesitarás las credenciales adecuadas. Puedes generarlas automáticamente desde tu perfil de usuario (https://www.eotdl.com/profile) aceptando los términos y condiciones. Al iniciar sesión en EOTDL, a través de la biblioteca o la CLI, recuperamos y almacenamos esta información, así que no tienes que preocuparte. Sin embargo, hay un par de inconvenientes: <br><br> 1. Si ya tienes una cuenta de Sentinel HUB con el mismo correo electrónico que tu cuenta de EOTDL, deberás recuperar las credenciales del Panel de Control de Sentinel Hub y configurarlas como variables de entorno. <br> 2. Las credenciales generadas mediante EOTDL pueden caducar después de un tiempo (estamos trabajando en ello). Si esto ocurre, avísanos en Discord para solucionar el problema. <br><br> En cualquier caso, puedes proporcionar tus propias credenciales configurando las variables de entorno adecuadas: `SH_CLIENT_ID` y `SH_CLIENT_SECRET`.\n"
         ]
      },
      {
         "cell_type": "code",
         "execution_count": null,
         "metadata": {},
         "outputs": [],
         "source": [
            "from eotdl.access import search_sentinel_imagery\n",
            "\n",
            "time_interval = (dates[0], dates[-1])\n",
            "\n",
            "r = search_sentinel_imagery(time_interval, boadella_bbox, \"sentinel-2-l2a\")\n",
            "response = list(r)\n",
            "response[:5]"
         ]
      },
      {
         "cell_type": "markdown",
         "metadata": {},
         "source": [
            "Tienen sentido, ya que el [tiempo de revisita](https://docs.sentinel-hub.com/api/latest/data/sentinel-2-l2a/#basic-facts) para Sentinel-2 es de 5 días.\n",
            "\n",
            "Por último, verifiquemos la cantidad de fechas con imágenes disponibles.\n"
         ]
      },
      {
         "cell_type": "code",
         "execution_count": null,
         "metadata": {},
         "outputs": [],
         "source": [
            "print(len(response))"
         ]
      },
      {
         "cell_type": "markdown",
         "metadata": {},
         "source": [
            "To sum up this section, we have explored our AoI, generated a bounding box and a time interval in which to look for imagery and searched for Sentinel-2 imagery.\n"
         ]
      },
      {
         "cell_type": "markdown",
         "metadata": {},
         "source": [
            "## Descargar\n"
         ]
      },
      {
         "cell_type": "markdown",
         "metadata": {},
         "source": [
            "El siguiente paso es descargar las imágenes. Podemos descargarlas una por una, como se indica a continuación.\n"
         ]
      },
      {
         "cell_type": "code",
         "execution_count": null,
         "metadata": {},
         "outputs": [],
         "source": [
            "from eotdl.access import download_sentinel_imagery\n",
            "\n",
            "first_date = dates[0]\n",
            "\n",
            "# Uncomment to demonstrate\n",
            "download_sentinel_imagery(\n",
            "    \"data/sentinel_2\", first_date, boadella_bbox, \"sentinel-2-l2a\"\n",
            ")"
         ]
      },
      {
         "cell_type": "markdown",
         "metadata": {},
         "source": [
            "Por otro lado, podemos buscar y descargar todas las imágenes disponibles dentro de un intervalo de tiempo, como se indica a continuación. Este es el método recomendado para descargas masivas, pero tiene la desventaja de que no podemos controlar la calidad de las imágenes, por ejemplo, conocer su cobertura de nubes.\n"
         ]
      },
      {
         "cell_type": "code",
         "execution_count": null,
         "metadata": {},
         "outputs": [],
         "source": [
            "# Uncomment to demonstrate\n",
            "\n",
            "demostration_dates = (dates[0], dates[2])\n",
            "\n",
            "download_sentinel_imagery(\n",
            "    output=\"data/sentinel_2\",\n",
            "    time_interval=demostration_dates,\n",
            "    bounding_box=boadella_bbox,\n",
            "    collection_id=\"sentinel-2-l2a\",\n",
            ")"
         ]
      },
      {
         "cell_type": "markdown",
         "metadata": {},
         "source": [
            "¡Eso es todo! Hemos descargado las imágenes de nuestro conjunto de datos. ¡Vamos a revisarlas!\n"
         ]
      },
      {
         "cell_type": "code",
         "execution_count": null,
         "metadata": {},
         "outputs": [],
         "source": [
            "from glob import glob\n",
            "\n",
            "rasters = glob(\"data/sentinel_2/*.tiff\")\n",
            "rasters[:5]"
         ]
      },
      {
         "cell_type": "markdown",
         "metadata": {},
         "source": [
            "Un último paso opcional es cambiar el nombre de las imágenes y limpiar el directorio.\n"
         ]
      },
      {
         "cell_type": "code",
         "execution_count": null,
         "metadata": {},
         "outputs": [],
         "source": [
            "files = glob('data/sentinel_2/*')\n",
            "for file in files:\n",
            "    new_file_name = file.replace('sentinel-2-l2a', 'Boadella').replace('.tiff', '.tif')\n",
            "    ! mv $file $new_file_name\n",
            "\n",
            "!rm -r data/sentinel_2/*.json"
         ]
      },
      {
         "cell_type": "code",
         "execution_count": null,
         "metadata": {},
         "outputs": [],
         "source": [
            "!ls data/sentinel_2"
         ]
      },
      {
         "cell_type": "markdown",
         "metadata": {},
         "source": [
            "## Oportunidades de discusión y contribución\n"
         ]
      },
      {
         "cell_type": "markdown",
         "metadata": {},
         "source": [
            "No dudes en hacer preguntas ahora (en directo o a través de Discord) y sugerir mejoras futuras.\n",
            "\n",
            "- ¿Qué funciones de exploración de datos te gustaría ver?\n",
            "- ¿Qué otras funciones de descarga de datos te gustaría ver?\n",
            "- ¿Qué funciones y herramientas de preparación de datos te gustaría ver?\n",
            "- ¿Cómo es tu flujo de trabajo habitual?\n"
         ]
      }
   ],
   "metadata": {
      "kernelspec": {
         "display_name": ".venv",
         "language": "python",
         "name": "python3"
      },
      "language_info": {
         "codemirror_mode": {
            "name": "ipython",
            "version": 3
         },
         "file_extension": ".py",
         "mimetype": "text/x-python",
         "name": "python",
         "nbconvert_exporter": "python",
         "pygments_lexer": "ipython3",
         "version": "3.12.8"
      },
      "orig_nbformat": 4
   },
   "nbformat": 4,
   "nbformat_minor": 2
}
